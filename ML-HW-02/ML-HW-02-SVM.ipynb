{
 "cells": [
  {
   "cell_type": "markdown",
   "metadata": {
    "id": "G7qnhGLbzRdD"
   },
   "source": [
    "# SVM for classification, without and with kernels\n",
    "\n",
    "In this notebook we are going to explore the use of Support Vector Machines (SVMs) for image classification. We are going to use the famous MNIST dataset, that is a dataset of handwritten digits. We get the data from mldata.org, that is a public repository for machine learning data.\n",
    "\n",
    "The dataset consists of 70,000 images of handwritten digits (i.e. 0, 1, ... 9). Each image is 28 pixels by 28 pixels and we can think of it as a vector of 28x28 = 784 numbers. Each number is an integer between 0 and 255. For each image we have the corresponding label (i.e. 0, 1, ..., 9)."
   ]
  },
  {
   "cell_type": "code",
   "execution_count": 14,
   "metadata": {
    "executionInfo": {
     "elapsed": 254,
     "status": "ok",
     "timestamp": 1670443540836,
     "user": {
      "displayName": "David Polzoni",
      "userId": "09670843453542960777"
     },
     "user_tz": -60
    },
    "id": "TJWtY6mQzRdF"
   },
   "outputs": [],
   "source": [
    "#load the required packages\n",
    "%matplotlib inline  \n",
    "\n",
    "import numpy as np\n",
    "import matplotlib.pyplot as plt\n",
    "\n",
    "import sklearn\n",
    "from sklearn.datasets import fetch_openml"
   ]
  },
  {
   "cell_type": "code",
   "execution_count": 15,
   "metadata": {
    "executionInfo": {
     "elapsed": 5,
     "status": "ok",
     "timestamp": 1670443541308,
     "user": {
      "displayName": "David Polzoni",
      "userId": "09670843453542960777"
     },
     "user_tz": -60
    },
    "id": "D3CCzHV9zRdH"
   },
   "outputs": [],
   "source": [
    "#fix your ID (\"numero di matricola\") and the seed for random generator\n",
    "ID = 2082157\n",
    "np.random.seed(ID)"
   ]
  },
  {
   "cell_type": "markdown",
   "metadata": {
    "id": "d1qdIDy7zRdH"
   },
   "source": [
    "Now let's load the dataset. 'data' contains the input, 'target' contains the label. We normalize the data by dividing each value by 255 so that each value is in [0,1]."
   ]
  },
  {
   "cell_type": "code",
   "execution_count": 16,
   "metadata": {
    "executionInfo": {
     "elapsed": 54719,
     "status": "ok",
     "timestamp": 1670443596024,
     "user": {
      "displayName": "David Polzoni",
      "userId": "09670843453542960777"
     },
     "user_tz": -60
    },
    "id": "VEPTLYprzRdH"
   },
   "outputs": [],
   "source": [
    "#load the MNIST dataset and let's normalize the features so that each value is in [0,1]\n",
    "mnist = fetch_openml('mnist_784', version=1)\n",
    "\n",
    "#rescale the data\n",
    "X, y = mnist.data.values / 255., mnist.target.values"
   ]
  },
  {
   "cell_type": "markdown",
   "metadata": {
    "id": "MdHR-tUizRdI"
   },
   "source": [
    "Now split into training and test. We keep 500 samples in the training set. Make sure that each label is present at least 10 times\n",
    "in training. If it is not, then keep adding permutations to the initial data until this \n",
    "happens.\n",
    "\n",
    "**IMPORTANT**: if you cannot run the SVM with 500 samples or 1000 samples (see below), try with a smaller number of samples (e.g. 200 here and 400 below)."
   ]
  },
  {
   "cell_type": "code",
   "execution_count": 17,
   "metadata": {
    "colab": {
     "base_uri": "https://localhost:8080/"
    },
    "executionInfo": {
     "elapsed": 2658,
     "status": "ok",
     "timestamp": 1670443598654,
     "user": {
      "displayName": "David Polzoni",
      "userId": "09670843453542960777"
     },
     "user_tz": -60
    },
    "id": "LOwp2KtzzRdI",
    "outputId": "0636e01a-c079-4d12-818b-7aef79510a55"
   },
   "outputs": [
    {
     "name": "stdout",
     "output_type": "stream",
     "text": [
      "Labels and frequencies in training dataset: \n"
     ]
    },
    {
     "data": {
      "text/plain": [
       "(array(['0', '1', '2', '3', '4', '5', '6', '7', '8', '9'], dtype=object),\n",
       " array([45, 55, 52, 54, 50, 51, 47, 45, 49, 52], dtype=int64))"
      ]
     },
     "execution_count": 17,
     "metadata": {},
     "output_type": "execute_result"
    }
   ],
   "source": [
    "#random permute the data and split into training and test taking the first 500 data samples as training and the rest as test\n",
    "permutation = np.random.permutation(X.shape[0])\n",
    "\n",
    "X = X[permutation]\n",
    "y = y[permutation]\n",
    "\n",
    "m_training = 500\n",
    "\n",
    "X_train, X_test = X[:m_training], X[m_training:]\n",
    "y_train, y_test = y[:m_training], y[m_training:]\n",
    "\n",
    "print(\"Labels and frequencies in training dataset: \")\n",
    "np.unique(y_train, return_counts=True)"
   ]
  },
  {
   "cell_type": "markdown",
   "metadata": {
    "id": "Kphf1byFzRdJ"
   },
   "source": [
    "We now provide a function to print an image in the dataset and the corresponding true label given the index of the image in the dataset."
   ]
  },
  {
   "cell_type": "code",
   "execution_count": 18,
   "metadata": {
    "executionInfo": {
     "elapsed": 10,
     "status": "ok",
     "timestamp": 1670443598654,
     "user": {
      "displayName": "David Polzoni",
      "userId": "09670843453542960777"
     },
     "user_tz": -60
    },
    "id": "bfuT-7ANzRdJ"
   },
   "outputs": [],
   "source": [
    "#function for plotting a digit and printing the corresponding label\n",
    "def plot_digit(X_matrix, labels, index):\n",
    "    print(\"INPUT:\")\n",
    "    plt.imshow(\n",
    "        X_matrix[index].reshape(28, 28),\n",
    "        cmap = plt.cm.gray_r,\n",
    "        interpolation = \"nearest\"\n",
    "    )\n",
    "    plt.show()\n",
    "    print(\"LABEL: %s\" % labels[index])\n",
    "    return"
   ]
  },
  {
   "cell_type": "markdown",
   "metadata": {
    "id": "z0uSwgHGzRdJ"
   },
   "source": [
    "As an example, let's print the 100-th image in X_train and the 40,000-th image in X_test and their true labels."
   ]
  },
  {
   "cell_type": "code",
   "execution_count": 19,
   "metadata": {
    "colab": {
     "base_uri": "https://localhost:8080/",
     "height": 582
    },
    "executionInfo": {
     "elapsed": 9,
     "status": "ok",
     "timestamp": 1670443598655,
     "user": {
      "displayName": "David Polzoni",
      "userId": "09670843453542960777"
     },
     "user_tz": -60
    },
    "id": "zrjDDOg3zRdK",
    "outputId": "51108a11-80b1-4682-a5ee-afc7732378a8"
   },
   "outputs": [
    {
     "name": "stdout",
     "output_type": "stream",
     "text": [
      "INPUT:\n"
     ]
    },
    {
     "data": {
      "image/png": "[encoded data removed]",
      "text/plain": [
       "<Figure size 432x288 with 1 Axes>"
      ]
     },
     "metadata": {
      "needs_background": "light"
     },
     "output_type": "display_data"
    },
    {
     "name": "stdout",
     "output_type": "stream",
     "text": [
      "LABEL: 2\n",
      "INPUT:\n"
     ]
    },
    {
     "data": {
      "image/png": "[encoded data removed]",
      "text/plain": [
       "<Figure size 432x288 with 1 Axes>"
      ]
     },
     "metadata": {
      "needs_background": "light"
     },
     "output_type": "display_data"
    },
    {
     "name": "stdout",
     "output_type": "stream",
     "text": [
      "LABEL: 1\n"
     ]
    }
   ],
   "source": [
    "#let's try the plotting function\n",
    "plot_digit(X_train, y_train, 100)\n",
    "plot_digit(X_test, y_test, 40000)"
   ]
  },
  {
   "cell_type": "markdown",
   "metadata": {
    "id": "lf5UaApWzRdK"
   },
   "source": [
    "## TO DO 1\n",
    "Run SVM with 5-fold cross validation to pick the best kernel and values of parameters. We provide some potential choice for parameters, but change the grid if needed (e.g. it takes too long). For the SVM for classification use SVC from sklearn.svm; for the grid search we suggest you use GridSearchCV from sklearn.model_selection, but you can implement your own cross-validation for model selection if you prefer.\n",
    "\n",
    "Finally, print the best parameters used as well as the score obtained by the best model."
   ]
  },
  {
   "cell_type": "code",
   "execution_count": 20,
   "metadata": {
    "colab": {
     "base_uri": "https://localhost:8080/"
    },
    "executionInfo": {
     "elapsed": 6568,
     "status": "ok",
     "timestamp": 1670443605218,
     "user": {
      "displayName": "David Polzoni",
      "userId": "09670843453542960777"
     },
     "user_tz": -60
    },
    "id": "Ioaltt6vzRdK",
    "outputId": "57aa1d4d-c213-4194-f406-9f5a0f588506"
   },
   "outputs": [
    {
     "name": "stdout",
     "output_type": "stream",
     "text": [
      "Best estimator for SVM linear kernel: SVC(C=1, kernel='linear')\n",
      "\n",
      "RESULTS FOR LINEAR KERNEL:\n",
      "\n",
      "Best parameters set found:\n",
      "{'C': 1}\n",
      "\n",
      "Score with best parameters:\n",
      "0.842\n",
      "\n",
      "All scores on the grid:\n",
      "Parameters: [{'C': 1}, {'C': 10}, {'C': 100}]\n",
      "Scores: [0.842 0.842 0.842]\n",
      "\n",
      "Best estimator for SVM poly-2 kernel: SVC(C=10, degree=2, gamma=0.01, kernel='poly')\n",
      "\n",
      "RESULTS FOR POLY DEGREE=2 KERNEL:\n",
      "\n",
      "Best parameters set found:\n",
      "{'C': 10, 'gamma': 0.01}\n",
      "\n",
      "Score with best parameters:\n",
      "0.8540000000000001\n",
      "\n",
      "All scores on the grid:\n",
      "Parameters: [{'C': 1, 'gamma': 0.01}, {'C': 1, 'gamma': 0.1}, {'C': 1, 'gamma': 1.0}, {'C': 10, 'gamma': 0.01}, {'C': 10, 'gamma': 0.1}, {'C': 10, 'gamma': 1.0}, {'C': 100, 'gamma': 0.01}, {'C': 100, 'gamma': 0.1}, {'C': 100, 'gamma': 1.0}]\n",
      "Scores: [0.832 0.852 0.852 0.854 0.852 0.852 0.852 0.852 0.852]\n",
      "\n",
      "Best estimator for SVM rbf kernel: SVC(C=10, gamma=0.01)\n",
      "\n",
      "RESULTS FOR rbf KERNEL:\n",
      "\n",
      "Best parameters set found:\n",
      "{'C': 10, 'gamma': 0.01}\n",
      "\n",
      "Score with best parameters:\n",
      "0.8800000000000001\n",
      "\n",
      "All scores on the grid:\n",
      "Parameters: [{'C': 1, 'gamma': 0.01}, {'C': 1, 'gamma': 0.1}, {'C': 1, 'gamma': 1.0}, {'C': 10, 'gamma': 0.01}, {'C': 10, 'gamma': 0.1}, {'C': 10, 'gamma': 1.0}, {'C': 100, 'gamma': 0.01}, {'C': 100, 'gamma': 0.1}, {'C': 100, 'gamma': 1.0}]\n",
      "Scores: [0.854 0.536 0.112 0.88  0.574 0.112 0.88  0.574 0.112]\n"
     ]
    }
   ],
   "source": [
    "#import SVC\n",
    "from sklearn.svm import SVC\n",
    "\n",
    "#import for cross-validation\n",
    "from sklearn.model_selection import GridSearchCV\n",
    "\n",
    "#parameters for linear kernel\n",
    "linear_parameters = {'C': [1, 10, 100]}\n",
    "\n",
    "#run linear SVM\n",
    "linear_SVM = SVC(kernel='linear')\n",
    "\n",
    "#find best model using 5-fold CV and train it using all the training data\n",
    "grid_search_CV_linear = GridSearchCV(linear_SVM, linear_parameters, cv=5, return_train_score=False)\n",
    "\n",
    "#fit the grid search with training data\n",
    "grid_search_CV_linear.fit(X_train, y_train)\n",
    "\n",
    "#best SVM model: linear kernel\n",
    "best_linear_SVM = grid_search_CV_linear.best_estimator_\n",
    "print(\"Best estimator for SVM linear kernel: \"+str(best_linear_SVM))\n",
    "\n",
    "print('\\nRESULTS FOR LINEAR KERNEL:\\n')\n",
    "\n",
    "print(\"Best parameters set found:\")\n",
    "print(grid_search_CV_linear.best_params_)\n",
    "\n",
    "print(\"\\nScore with best parameters:\")\n",
    "print(grid_search_CV_linear.best_score_)\n",
    "\n",
    "print(\"\\nAll scores on the grid:\")\n",
    "print(\"Parameters: \"+str(grid_search_CV_linear.cv_results_['params']))\n",
    "print(\"Scores: \"+str(grid_search_CV_linear.cv_results_['mean_test_score']))\n",
    "\n",
    "#parameters for poly with degree 2 kernel\n",
    "poly2_parameters = {'C': [1, 10, 100], 'gamma': [0.01, 0.1, 1.]}\n",
    "\n",
    "#run SVM with poly of degree 2 kernel\n",
    "poly2_SVM = SVC(kernel='poly', degree=2)\n",
    "\n",
    "#DO THE SAME AS ABOVE FOR POLYNOMIAL KERNEL WITH DEGREE=2\n",
    "#find best model using 5-fold CV and train it using all the training data\n",
    "grid_search_CV_poly = GridSearchCV(poly2_SVM, poly2_parameters, cv=5, return_train_score=False)\n",
    "\n",
    "#fit grid search with training data\n",
    "grid_search_CV_poly.fit(X_train, y_train)\n",
    "\n",
    "#best SVM model: poly-2 kernel\n",
    "best_poly2_SVM = grid_search_CV_poly.best_estimator_\n",
    "print(\"\\nBest estimator for SVM poly-2 kernel: \"+str(best_poly2_SVM))\n",
    "\n",
    "print('\\nRESULTS FOR POLY DEGREE=2 KERNEL:\\n')\n",
    "\n",
    "print(\"Best parameters set found:\")\n",
    "print(grid_search_CV_poly.best_params_)\n",
    "\n",
    "print(\"\\nScore with best parameters:\")\n",
    "print(grid_search_CV_poly.best_score_)\n",
    "\n",
    "print(\"\\nAll scores on the grid:\")\n",
    "print(\"Parameters: \"+str(grid_search_CV_poly.cv_results_['params']))\n",
    "print(\"Scores: \"+str(grid_search_CV_poly.cv_results_['mean_test_score']))\n",
    "\n",
    "#parameters for rbf kernel\n",
    "rbf_parameters = {'C': [1, 10, 100], 'gamma': [0.01, 0.1, 1.]}\n",
    "\n",
    "#run SVM with rbf kernel\n",
    "rbf_SVM = SVC(kernel='rbf')\n",
    "\n",
    "#DO THE SAME AS ABOVE FOR RBF KERNEL\n",
    "#find best model using 5-fold CV and train it using all the training data\n",
    "grid_search_CV_rbf = GridSearchCV(rbf_SVM, rbf_parameters, cv=5, return_train_score=False)\n",
    "\n",
    "#fit grid search with training data\n",
    "grid_search_CV_rbf.fit(X_train, y_train)\n",
    "\n",
    "#best SVM model: rbf kernel\n",
    "best_rbf_SVM = grid_search_CV_rbf.best_estimator_\n",
    "print(\"\\nBest estimator for SVM rbf kernel: \"+str(best_rbf_SVM))\n",
    "\n",
    "print('\\nRESULTS FOR rbf KERNEL:\\n')\n",
    "\n",
    "print(\"Best parameters set found:\")\n",
    "print(grid_search_CV_rbf.best_params_)\n",
    "\n",
    "print(\"\\nScore with best parameters:\")\n",
    "print(grid_search_CV_rbf.best_score_)\n",
    "\n",
    "print(\"\\nAll scores on the grid:\")\n",
    "print(\"Parameters: \"+str(grid_search_CV_rbf.cv_results_['params']))\n",
    "print(\"Scores: \"+str(grid_search_CV_rbf.cv_results_['mean_test_score']))"
   ]
  },
  {
   "cell_type": "markdown",
   "metadata": {
    "id": "njb2kQJYzRdL"
   },
   "source": [
    "## TO DO 2\n",
    "For the \"best\" SVM kernel and choice of parameters from above, train the model on the entire training set and measure the training error. Also make predictions on the test set and measure the test error. Print the training and the test error."
   ]
  },
  {
   "cell_type": "code",
   "execution_count": 21,
   "metadata": {
    "colab": {
     "base_uri": "https://localhost:8080/"
    },
    "executionInfo": {
     "elapsed": 15459,
     "status": "ok",
     "timestamp": 1670443620667,
     "user": {
      "displayName": "David Polzoni",
      "userId": "09670843453542960777"
     },
     "user_tz": -60
    },
    "id": "U2zvw537zRdL",
    "outputId": "64e7872f-ae4d-46ed-da36-5829b7d7c657"
   },
   "outputs": [
    {
     "name": "stdout",
     "output_type": "stream",
     "text": [
      "Best SVM training error: 0.000000\n",
      "Best SVM test error: 0.099007\n"
     ]
    }
   ],
   "source": [
    "#get training and test error for the best SVM model from CV\n",
    "\n",
    "#as 'best' SVM model, I consider the one with the highest score from the previous results:\n",
    "#SVM rbf kernel with parameters: C=10, gamma=0.01\n",
    "best_SVM = grid_search_CV_rbf.best_estimator_\n",
    "\n",
    "#fit the model on the entire training set\n",
    "best_SVM.fit(X_train, y_train)\n",
    "\n",
    "#get the training and test error\n",
    "training_error_best_SVM = 1. - best_SVM.score(X_train, y_train)\n",
    "test_error_best_SVM = 1. - best_SVM.score(X_test, y_test)\n",
    "\n",
    "print(\"Best SVM training error: %f\" % training_error_best_SVM)\n",
    "print(\"Best SVM test error: %f\" % test_error_best_SVM)"
   ]
  },
  {
   "cell_type": "markdown",
   "metadata": {
    "id": "HVj7-ZXIzRdL"
   },
   "source": [
    "## Use logistic regression for comparison\n",
    "\n",
    "## TO DO 3\n",
    "\n",
    "Just for comparison let's also use logistic regression, first with the default values of the parameter for regularization and then with cross-validation to fix the value of the parameters. For cross validation, use 5-fold cross validation and the default values of the regularization parameters for the function linear_model.LogisticRegressionCV(...).\n",
    "\n",
    "Note: during training you may receive a \"ConvergenceWarning\" that indicates that the logistic regression solver did not converge to the optimal result. Given the scope of the notebook, we can ignore such warning but in real-world scenarios you should take corrective measures such as increasing the number of training iterations and/or the runtime for training or picking a different optimizer."
   ]
  },
  {
   "cell_type": "code",
   "execution_count": 22,
   "metadata": {
    "colab": {
     "base_uri": "https://localhost:8080/"
    },
    "executionInfo": {
     "elapsed": 16036,
     "status": "ok",
     "timestamp": 1670443636690,
     "user": {
      "displayName": "David Polzoni",
      "userId": "09670843453542960777"
     },
     "user_tz": -60
    },
    "id": "j1F-hZZPzRdL",
    "outputId": "4b7476bc-16d2-45ef-be5d-0772347300f0"
   },
   "outputs": [
    {
     "name": "stdout",
     "output_type": "stream",
     "text": [
      "Best logistic regression training error: 0.000000\n",
      "Best logistic regression test error: 0.147094\n",
      "\n",
      "Best logistic regression training error with CV: 0.002000\n",
      "Best logistic regression test error with CV: 0.147482\n"
     ]
    }
   ],
   "source": [
    "from sklearn import linear_model\n",
    "from warnings import simplefilter\n",
    "from sklearn.exceptions import ConvergenceWarning\n",
    "\n",
    "#simple filter to ignore ConvergenceWarning (introduced only for 'printing' purposes)\n",
    "simplefilter(\"ignore\", category=ConvergenceWarning)\n",
    "\n",
    "#logistic regression model from sklearn.linear_model\n",
    "log_regression = linear_model.LogisticRegression()\n",
    "\n",
    "#fit the logistic regression model on the training data\n",
    "log_regression.fit(X_train, y_train)\n",
    "\n",
    "#compute training and test error for model above\n",
    "training_error_log_regression = 1. - log_regression.score(X_train, y_train)\n",
    "test_error_log_regression = 1. - log_regression.score(X_test, y_test)\n",
    "\n",
    "print(\"Best logistic regression training error: %f\" % training_error_log_regression)\n",
    "print(\"Best logistic regression test error: %f\" % test_error_log_regression)\n",
    "\n",
    "#logistic regression with 5-fold CV: you can use use linear_model.LogisticRegressionCV\n",
    "#use 5-fold CV to find the best choice of the parameter, than train the model on the entire training set\n",
    "log_regression_cv = linear_model.LogisticRegressionCV(cv=5, random_state=ID).fit(X_train, y_train)\n",
    "training_error_log_regression_cv = 1. - log_regression_cv.score(X_train, y_train)\n",
    "test_error_log_regression_cv = 1. - log_regression_cv.score(X_test, y_test)\n",
    "\n",
    "print(\"\\nBest logistic regression training error with CV: %f\" % training_error_log_regression_cv)\n",
    "print(\"Best logistic regression test error with CV: %f\" % test_error_log_regression_cv)"
   ]
  },
  {
   "cell_type": "markdown",
   "metadata": {
    "id": "7pNmjembzRdM"
   },
   "source": [
    "## TO DO 4 \n",
    "Compare and comment the results from SVM and logistic regression.\n",
    "\n",
    "**ANSWER [David Polzoni]:** The following code block shows the performances (in terms of training error and test error) of the different SVM models with linear, poly-2 and rbf kernels. The result shown below is further confirmation of the correct choice of the *best_SVM* as SVM with rbf kernel and parameters $C=10$, $γ=0.01$. As for logistic regression, similar performances are obtained between *log_regression* and *log_regression_cv*, as can be seen below. Comparing *best_SVM* and logistic regression models performances, better results in terms of test error are obtained by *best_SVM*."
   ]
  },
  {
   "cell_type": "code",
   "execution_count": 23,
   "metadata": {
    "colab": {
     "base_uri": "https://localhost:8080/"
    },
    "executionInfo": {
     "elapsed": 12816,
     "status": "ok",
     "timestamp": 1670443649494,
     "user": {
      "displayName": "David Polzoni",
      "userId": "09670843453542960777"
     },
     "user_tz": -60
    },
    "id": "deUxUx8FNzOd",
    "outputId": "c3713b73-ac9b-423b-8d81-228a34a721d6"
   },
   "outputs": [
    {
     "name": "stdout",
     "output_type": "stream",
     "text": [
      "Best SVM linear kernel training error: 0.000000\n",
      "Best SVM linear kernel test error: 0.130014\n",
      "\n",
      "Best SVM poly-2 kernel training error: 0.000000\n",
      "Best SVM poly-2 kernel test error: 0.116820\n",
      "\n",
      "Best SVM (rbf kernel) training error: 0.000000\n",
      "Best SVM (rbf kernel) test error: 0.099007\n",
      "\n",
      "Best logistic regression training error: 0.000000\n",
      "Best logistic regression test error: 0.147094\n",
      "\n",
      "Best logistic regression training error with CV: 0.002000\n",
      "Best logistic regression test error with CV: 0.147482\n"
     ]
    }
   ],
   "source": [
    "#comparison between performances of different SVM: linear, poly-2, rbf kernel\n",
    "\n",
    "#SVM: linear kernel --> best_linear_SVM (defined above)\n",
    "training_error_best_linear_SVM = 1. - best_linear_SVM.score(X_train, y_train)\n",
    "test_error_best_linear_SVM = 1. - best_linear_SVM.score(X_test, y_test)\n",
    "print(\"Best SVM linear kernel training error: %f\" % training_error_best_linear_SVM)\n",
    "print(\"Best SVM linear kernel test error: %f\" % test_error_best_linear_SVM)\n",
    "\n",
    "#SVM: poly-2 kernel --> best_poly2_SVM (defined above)\n",
    "training_error_best_poly2_SVM = 1. - best_poly2_SVM.score(X_train, y_train)\n",
    "test_error_best_poly2_SVM = 1. - best_poly2_SVM.score(X_test, y_test)\n",
    "print(\"\\nBest SVM poly-2 kernel training error: %f\" % training_error_best_poly2_SVM)\n",
    "print(\"Best SVM poly-2 kernel test error: %f\" % test_error_best_poly2_SVM)\n",
    "\n",
    "#SVM: rbf kernel --> best_rbf_SVM (defined above) = best_SVM, as it has the highest score\n",
    "print(\"\\nBest SVM (rbf kernel) training error: %f\" % training_error_best_SVM)\n",
    "print(\"Best SVM (rbf kernel) test error: %f\" % test_error_best_SVM)\n",
    "\n",
    "#comparison between performances: log_regression and log_regression_cv\n",
    "\n",
    "#logistic regression\n",
    "print(\"\\nBest logistic regression training error: %f\" % training_error_log_regression)\n",
    "print(\"Best logistic regression test error: %f\" % test_error_log_regression)\n",
    "\n",
    "#logistic regression with cross-validation\n",
    "print(\"\\nBest logistic regression training error with CV: %f\" % training_error_log_regression_cv)\n",
    "print(\"Best logistic regression test error with CV: %f\" % test_error_log_regression_cv)"
   ]
  },
  {
   "cell_type": "markdown",
   "metadata": {
    "id": "3v44JFhEzRdM"
   },
   "source": [
    "## TO DO 5\n",
    "Write the code that finds and plots a digit that is misclassified by logistic regression (optimized for the regularization parameter) and correctly classified by the \"best\" SVM."
   ]
  },
  {
   "cell_type": "code",
   "execution_count": 24,
   "metadata": {
    "colab": {
     "base_uri": "https://localhost:8080/",
     "height": 334
    },
    "executionInfo": {
     "elapsed": 15300,
     "status": "ok",
     "timestamp": 1670443664785,
     "user": {
      "displayName": "David Polzoni",
      "userId": "09670843453542960777"
     },
     "user_tz": -60
    },
    "id": "M8EVvD-MzRdM",
    "outputId": "39aa3c59-ef75-4a3c-e8f9-e8f89860c9ec"
   },
   "outputs": [
    {
     "name": "stdout",
     "output_type": "stream",
     "text": [
      "The following digit is correctly classified by the 'best' SVM and misclassified by logistic regression with CV\n",
      "INPUT:\n"
     ]
    },
    {
     "data": {
      "image/png": "[encoded data removed]",
      "text/plain": [
       "<Figure size 432x288 with 1 Axes>"
      ]
     },
     "metadata": {
      "needs_background": "light"
     },
     "output_type": "display_data"
    },
    {
     "name": "stdout",
     "output_type": "stream",
     "text": [
      "LABEL: 9\n"
     ]
    }
   ],
   "source": [
    "import random\n",
    "\n",
    "#to find the digits which are misclassified by log_regression_cv:\n",
    "#use np.where() to check for predictions which are NOT equal to the labels previously defined\n",
    "misclassified_log_reg_cv = np.where(y_test != log_regression_cv.predict(X_test))\n",
    "\n",
    "#to find the digits which are correctly classified by best_SVM:\n",
    "#use np.where() to check for predictions which are equal to the labels previously defined\n",
    "classified_best_SVM = np.where(y_test == best_SVM.predict(X_test))\n",
    "\n",
    "#to find the digits which respect the conditions imposed on TO DO 5:\n",
    "#use np.intesects1d() to get the digits indexes which are misclassified by log_regression_cv and classified by best_SVM\n",
    "correct_digits = np.intersect1d(misclassified_log_reg_cv, classified_best_SVM)\n",
    "\n",
    "#randomly choose an index in correct_digits defined above\n",
    "rnd_selected_digit = random.choice(correct_digits)\n",
    "\n",
    "#control to test if the chosen digit is classified by the best_SVM and misclassified by logistic_regression_cv\n",
    "#to test if all the procedure is correct: use reshape(1, -1) to compare the predictions on rnd_selected_digit with the corresponding y_test label\n",
    "if y_test[rnd_selected_digit] == best_SVM.predict(X_test[rnd_selected_digit].reshape(1, -1)) and y_test[rnd_selected_digit] != log_regression_cv.predict(X_test[rnd_selected_digit].reshape(1, -1)):\n",
    "  print(\"The following digit is correctly classified by the 'best' SVM and misclassified by logistic regression with CV\")\n",
    "else:\n",
    "  print(\"Error: the following digit is not among the correct ones!\")\n",
    "\n",
    "#plot the rnd_selected_digit\n",
    "plot_digit(X_test, y_test, rnd_selected_digit)"
   ]
  },
  {
   "cell_type": "markdown",
   "metadata": {
    "id": "ooo_YQ_rzRdM"
   },
   "source": [
    "## More data\n",
    "Now let's do the same but using 1000 data points for training. \n",
    "\n",
    "## TO DO 6\n",
    "Repeat the entire analysis above using 1000 samples. Of course you can copy the code from above (but no need to copy markdown comments)."
   ]
  },
  {
   "cell_type": "code",
   "execution_count": 25,
   "metadata": {
    "colab": {
     "base_uri": "https://localhost:8080/",
     "height": 1000
    },
    "executionInfo": {
     "elapsed": 98617,
     "status": "ok",
     "timestamp": 1670443763374,
     "user": {
      "displayName": "David Polzoni",
      "userId": "09670843453542960777"
     },
     "user_tz": -60
    },
    "id": "ZnDimQ6o7FPt",
    "outputId": "6209e59d-37ee-4b3b-a531-3c45d429047e"
   },
   "outputs": [
    {
     "name": "stdout",
     "output_type": "stream",
     "text": [
      "Best estimator for SVM linear kernel: SVC(C=1, kernel='linear')\n",
      "\n",
      "RESULTS FOR LINEAR KERNEL:\n",
      "\n",
      "Best parameters set found:\n",
      "{'C': 1}\n",
      "\n",
      "Score with best parameters:\n",
      "0.8790000000000001\n",
      "\n",
      "All scores on the grid:\n",
      "Parameters: [{'C': 1}, {'C': 10}, {'C': 100}]\n",
      "Scores: [0.879 0.879 0.879]\n",
      "\n",
      "Best estimator for SVM poly-2 kernel: SVC(C=10, degree=2, gamma=0.01, kernel='poly')\n",
      "\n",
      "RESULTS FOR POLY DEGREE=2 KERNEL:\n",
      "\n",
      "Best parameters set found:\n",
      "{'C': 10, 'gamma': 0.01}\n",
      "\n",
      "Score with best parameters:\n",
      "0.899\n",
      "\n",
      "All scores on the grid:\n",
      "Parameters: [{'C': 1, 'gamma': 0.01}, {'C': 1, 'gamma': 0.1}, {'C': 1, 'gamma': 1.0}, {'C': 10, 'gamma': 0.01}, {'C': 10, 'gamma': 0.1}, {'C': 10, 'gamma': 1.0}, {'C': 100, 'gamma': 0.01}, {'C': 100, 'gamma': 0.1}, {'C': 100, 'gamma': 1.0}]\n",
      "Scores: [0.878 0.898 0.898 0.899 0.898 0.898 0.898 0.898 0.898]\n",
      "\n",
      "Best estimator for SVM rbf kernel: SVC(C=100, gamma=0.01)\n",
      "\n",
      "RESULTS FOR rbf KERNEL:\n",
      "\n",
      "Best parameters set found:\n",
      "{'C': 100, 'gamma': 0.01}\n",
      "\n",
      "Score with best parameters:\n",
      "0.915\n",
      "\n",
      "All scores on the grid:\n",
      "Parameters: [{'C': 1, 'gamma': 0.01}, {'C': 1, 'gamma': 0.1}, {'C': 1, 'gamma': 1.0}, {'C': 10, 'gamma': 0.01}, {'C': 10, 'gamma': 0.1}, {'C': 10, 'gamma': 1.0}, {'C': 100, 'gamma': 0.01}, {'C': 100, 'gamma': 0.1}, {'C': 100, 'gamma': 1.0}]\n",
      "Scores: [0.904 0.509 0.118 0.914 0.56  0.118 0.915 0.56  0.118]\n",
      "\n",
      "Best SVM training error: 0.000000\n",
      "Best SVM test error: 0.078420\n",
      "\n",
      "Best logistic regression training error: 0.000000\n",
      "Best logistic regression test error: 0.127696\n",
      "Best logistic regression training error with CV: 0.002000\n",
      "Best logistic regression test error with CV: 0.126942\n",
      "\n",
      "The following digit is correctly classified by the 'best' SVM and misclassified by logistic regression with CV\n",
      "INPUT:\n"
     ]
    },
    {
     "data": {
      "image/png": "[encoded data removed]",
      "text/plain": [
       "<Figure size 432x288 with 1 Axes>"
      ]
     },
     "metadata": {
      "needs_background": "light"
     },
     "output_type": "display_data"
    },
    {
     "name": "stdout",
     "output_type": "stream",
     "text": [
      "LABEL: 1\n"
     ]
    }
   ],
   "source": [
    "#split into training and test taking the first 1000 data samples as training and the rest as test\n",
    "m_training = 1000\n",
    "\n",
    "X_train, X_test = X[:m_training], X[m_training:]\n",
    "y_train, y_test = y[:m_training], y[m_training:]\n",
    "\n",
    "#SVM: linear, poly-2 and gaussian rbf kernels (GridSearchCV)\n",
    "\n",
    "#parameters for linear kernel\n",
    "linear_parameters = {'C': [1, 10, 100]}\n",
    "\n",
    "#run linear SVM\n",
    "linear_SVM = SVC(kernel='linear')\n",
    "\n",
    "#find best model using 5-fold CV and train it using all the training data\n",
    "grid_search_CV_linear = GridSearchCV(linear_SVM, linear_parameters, cv=5, return_train_score=False)\n",
    "\n",
    "#fit the grid search with training data\n",
    "grid_search_CV_linear.fit(X_train, y_train)\n",
    "\n",
    "#best SVM model: linear kernel\n",
    "best_linear_SVM = grid_search_CV_linear.best_estimator_\n",
    "print(\"Best estimator for SVM linear kernel: \"+str(best_linear_SVM))\n",
    "\n",
    "print('\\nRESULTS FOR LINEAR KERNEL:\\n')\n",
    "\n",
    "print(\"Best parameters set found:\")\n",
    "print(grid_search_CV_linear.best_params_)\n",
    "\n",
    "print(\"\\nScore with best parameters:\")\n",
    "print(grid_search_CV_linear.best_score_)\n",
    "\n",
    "print(\"\\nAll scores on the grid:\")\n",
    "print(\"Parameters: \"+str(grid_search_CV_linear.cv_results_['params']))\n",
    "print(\"Scores: \"+str(grid_search_CV_linear.cv_results_['mean_test_score']))\n",
    "\n",
    "#parameters for poly with degree 2 kernel\n",
    "poly2_parameters = {'C': [1, 10, 100], 'gamma': [0.01, 0.1, 1.]}\n",
    "\n",
    "#run SVM with poly of degree 2 kernel\n",
    "poly2_SVM = SVC(kernel='poly', degree=2)\n",
    "\n",
    "#DO THE SAME AS ABOVE FOR POLYNOMIAL KERNEL WITH DEGREE=2\n",
    "#find best model using 5-fold CV and train it using all the training data\n",
    "grid_search_CV_poly = GridSearchCV(poly2_SVM, poly2_parameters, cv=5, return_train_score=False)\n",
    "\n",
    "#fit grid search with training data\n",
    "grid_search_CV_poly.fit(X_train, y_train)\n",
    "\n",
    "#best SVM model: poly-2 kernel\n",
    "best_poly2_SVM = grid_search_CV_poly.best_estimator_\n",
    "print(\"\\nBest estimator for SVM poly-2 kernel: \"+str(best_poly2_SVM))\n",
    "\n",
    "print('\\nRESULTS FOR POLY DEGREE=2 KERNEL:\\n')\n",
    "\n",
    "print(\"Best parameters set found:\")\n",
    "print(grid_search_CV_poly.best_params_)\n",
    "\n",
    "print(\"\\nScore with best parameters:\")\n",
    "print(grid_search_CV_poly.best_score_)\n",
    "\n",
    "print(\"\\nAll scores on the grid:\")\n",
    "print(\"Parameters: \"+str(grid_search_CV_poly.cv_results_['params']))\n",
    "print(\"Scores: \"+str(grid_search_CV_poly.cv_results_['mean_test_score']))\n",
    "\n",
    "#parameters for rbf kernel\n",
    "rbf_parameters = {'C': [1, 10, 100], 'gamma': [0.01, 0.1, 1.]}\n",
    "\n",
    "#run SVM with rbf kernel\n",
    "rbf_SVM = SVC(kernel='rbf')\n",
    "\n",
    "#DO THE SAME AS ABOVE FOR RBF KERNEL\n",
    "#find best model using 5-fold CV and train it using all the training data\n",
    "grid_search_CV_rbf = GridSearchCV(rbf_SVM, rbf_parameters, cv=5, return_train_score=False)\n",
    "\n",
    "#fit grid search with training data\n",
    "grid_search_CV_rbf.fit(X_train, y_train)\n",
    "\n",
    "#best SVM model: rbf kernel\n",
    "best_rbf_SVM = grid_search_CV_rbf.best_estimator_\n",
    "print(\"\\nBest estimator for SVM rbf kernel: \"+str(best_rbf_SVM))\n",
    "\n",
    "print('\\nRESULTS FOR rbf KERNEL:\\n')\n",
    "\n",
    "print(\"Best parameters set found:\")\n",
    "print(grid_search_CV_rbf.best_params_)\n",
    "\n",
    "print(\"\\nScore with best parameters:\")\n",
    "print(grid_search_CV_rbf.best_score_)\n",
    "\n",
    "print(\"\\nAll scores on the grid:\")\n",
    "print(\"Parameters: \"+str(grid_search_CV_rbf.cv_results_['params']))\n",
    "print(\"Scores: \"+str(grid_search_CV_rbf.cv_results_['mean_test_score']))\n",
    "\n",
    "#choice of the best model in terms of best_score_ parameter \n",
    "\n",
    "#as 'best' SVM model, I consider the one with the highest score from the previous results:\n",
    "#SVM rbf kernel with parameters: C=100, gamma=0.01 (different from above!)\n",
    "best_SVM = grid_search_CV_rbf.best_estimator_\n",
    "\n",
    "#fit the model on the entire training set\n",
    "best_SVM.fit(X_train, y_train)\n",
    "\n",
    "#get the training and test error\n",
    "training_error_best_SVM_1000 = 1. - best_SVM.score(X_train, y_train)\n",
    "test_error_best_SVM_1000 = 1. - best_SVM.score(X_test, y_test)\n",
    "\n",
    "print(\"\\nBest SVM training error: %f\" % training_error_best_SVM_1000)\n",
    "print(\"Best SVM test error: %f\" % test_error_best_SVM_1000)\n",
    "\n",
    "#logistic regression analysis: optimization of hyperparameters with CV\n",
    "\n",
    "#logistic regression model from sklearn.linear_model\n",
    "log_regression = linear_model.LogisticRegression()\n",
    "\n",
    "#fit the logistic regression model on the training data\n",
    "log_regression.fit(X_train, y_train)\n",
    "\n",
    "#compute training and test error for model above\n",
    "training_error_log_regression_1000 = 1. - log_regression.score(X_train, y_train)\n",
    "test_error_log_regression_1000 = 1. - log_regression.score(X_test, y_test)\n",
    "\n",
    "print(\"\\nBest logistic regression training error: %f\" % training_error_log_regression_1000)\n",
    "print(\"Best logistic regression test error: %f\" % test_error_log_regression_1000)\n",
    "\n",
    "#logistic regression with 5-fold CV: you can use use linear_model.LogisticRegressionCV\n",
    "#use 5-fold CV to find the best choice of the parameter, than train the model on the entire training set\n",
    "log_regression_cv = linear_model.LogisticRegressionCV(cv=5, random_state=ID).fit(X_train, y_train)\n",
    "training_error_log_regression_cv_1000 = 1. - log_regression_cv.score(X_train, y_train)\n",
    "test_error_log_regression_cv_1000 = 1. - log_regression_cv.score(X_test, y_test)\n",
    "\n",
    "print(\"Best logistic regression training error with CV: %f\" % training_error_log_regression_cv_1000)\n",
    "print(\"Best logistic regression test error with CV: %f\" % test_error_log_regression_cv_1000)\n",
    "\n",
    "#find and plot a digit that is misclassified by logistic regression (optimized for the regularization parameter)\n",
    "#and correctly classified by the 'best' SVM\n",
    "\n",
    "#to find the digits which are misclassified by log_regression_cv:\n",
    "#use np.where() to check for predictions which are NOT equal to the labels previously defined\n",
    "misclassified_log_reg_cv = np.where(y_test != log_regression_cv.predict(X_test))\n",
    "\n",
    "#to find the digits which are correctly classified by best_SVM:\n",
    "#use np.where() to check for predictions which are equal to the labels previously defined\n",
    "classified_best_SVM = np.where(y_test == best_SVM.predict(X_test))\n",
    "\n",
    "#to find the digits which respect the conditions imposed on TO DO 5:\n",
    "#use np.intesects1d() to get the digits indexes which are misclassified by log_regression_cv and classified by best_SVM\n",
    "correct_digits = np.intersect1d(misclassified_log_reg_cv, classified_best_SVM)\n",
    "\n",
    "#randomly choose an index in correct_digits defined above\n",
    "rnd_selected_digit = random.choice(correct_digits)\n",
    "\n",
    "#control to test if the chosen digit is classified by the best_SVM and misclassified by logistic_regression_cv\n",
    "#to test if all the procedure is correct: use reshape(1, -1) to compare the predictions on rnd_selected_digit with the corresponding y_test label\n",
    "if y_test[rnd_selected_digit] == best_SVM.predict(X_test[rnd_selected_digit].reshape(1, -1)) and y_test[rnd_selected_digit] != log_regression_cv.predict(X_test[rnd_selected_digit].reshape(1, -1)):\n",
    "  print(\"\\nThe following digit is correctly classified by the 'best' SVM and misclassified by logistic regression with CV\")\n",
    "else:\n",
    "  print(\"\\nError: the following digit is not among the correct ones!\")\n",
    "\n",
    "#plot the rnd_selected_digit\n",
    "plot_digit(X_test, y_test, rnd_selected_digit)"
   ]
  },
  {
   "cell_type": "markdown",
   "metadata": {
    "id": "tYnT0FuizRdN"
   },
   "source": [
    "## TO DO 7\n",
    "Compare and comment on the differences with the results above.\n",
    "\n",
    "**ANSWER [David Polzoni]**: With the increase of training samples ($m_{training}=1000$), the following advantages have been obtained, as expected:\n",
    "\n",
    "* GridSearchCV: higher scores in terms of parameters evaluation;\n",
    "* different set of parameters for the *best_SVM*;\n",
    "* lower training and test error for *best_SVM*;\n",
    "* lower training and test error for logistic regression model with and without CV;\n",
    "* logistic regression: similar performances with and without CV;\n",
    "* better performances in terms of test error for *best_SVM* w.r.t. logistic regression models.\n",
    "\n",
    "In fact, the larger amount of training samples results in better performances for models that are trained with a larger set of training data. The results listed above are shown in the following code block."
   ]
  },
  {
   "cell_type": "code",
   "execution_count": 26,
   "metadata": {
    "colab": {
     "base_uri": "https://localhost:8080/"
    },
    "executionInfo": {
     "elapsed": 32,
     "status": "ok",
     "timestamp": 1670443763375,
     "user": {
      "displayName": "David Polzoni",
      "userId": "09670843453542960777"
     },
     "user_tz": -60
    },
    "id": "YImm-uFDzRdN",
    "outputId": "849ef5df-3793-49b4-c879-160032ccb0a5"
   },
   "outputs": [
    {
     "name": "stdout",
     "output_type": "stream",
     "text": [
      "Best SVM (m_training = 1000): SVC(C=100, gamma=0.01)\n",
      "\n",
      "Best SVM training error (m_training = 500): 0.000000\n",
      "Best SVM test error (m_training = 500): 0.099007\n",
      "\n",
      "Best SVM training error (m_training = 1000): 0.000000\n",
      "Best SVM test error (m_training = 1000): 0.078420\n",
      "\n",
      "Best logistic regression training error (m_training = 500): 0.000000\n",
      "Best logistic regression test error (m_training = 500): 0.147094\n",
      "Best logistic regression training error with CV (m_training = 500): 0.002000\n",
      "Best logistic regression test error with CV (m_training = 500): 0.147482\n",
      "\n",
      "Best logistic regression training error (m_training = 1000): 0.000000\n",
      "Best logistic regression test error (m_training = 1000): 0.127696\n",
      "Best logistic regression training error with CV (m_training = 1000): 0.002000\n",
      "Best logistic regression test error with CV (m_training = 1000): 0.126942\n"
     ]
    }
   ],
   "source": [
    "#different set of parameters for best SVM: m_training = 1000\n",
    "print(\"Best SVM (m_training = 1000): \"+str(best_SVM))\n",
    "\n",
    "#comparison between performances of best SVMs: m_training = 500 and m_training = 1000\n",
    "print(\"\\nBest SVM training error (m_training = 500): %f\" % training_error_best_SVM)\n",
    "print(\"Best SVM test error (m_training = 500): %f\" % test_error_best_SVM)\n",
    "\n",
    "print(\"\\nBest SVM training error (m_training = 1000): %f\" % training_error_best_SVM_1000)\n",
    "print(\"Best SVM test error (m_training = 1000): %f\" % test_error_best_SVM_1000)\n",
    "\n",
    "#comparison between performances of best logistic regression models with and without CV: m_training = 500 and m_training = 1000\n",
    "print(\"\\nBest logistic regression training error (m_training = 500): %f\" % training_error_log_regression)\n",
    "print(\"Best logistic regression test error (m_training = 500): %f\" % test_error_log_regression)\n",
    "print(\"Best logistic regression training error with CV (m_training = 500): %f\" % training_error_log_regression_cv)\n",
    "print(\"Best logistic regression test error with CV (m_training = 500): %f\" % test_error_log_regression_cv)\n",
    "\n",
    "print(\"\\nBest logistic regression training error (m_training = 1000): %f\" % training_error_log_regression_1000)\n",
    "print(\"Best logistic regression test error (m_training = 1000): %f\" % test_error_log_regression_1000)\n",
    "print(\"Best logistic regression training error with CV (m_training = 1000): %f\" % training_error_log_regression_cv_1000)\n",
    "print(\"Best logistic regression test error with CV (m_training = 1000): %f\" % test_error_log_regression_cv_1000)"
   ]
  }
 ],
 "metadata": {
  "colab": {
   "provenance": []
  },
  "kernelspec": {
   "display_name": "Python 3",
   "language": "python",
   "name": "python3"
  },
  "language_info": {
   "codemirror_mode": {
    "name": "ipython",
    "version": 3
   },
   "file_extension": ".py",
   "mimetype": "text/x-python",
   "name": "python",
   "nbconvert_exporter": "python",
   "pygments_lexer": "ipython3",
   "version": "3.9.12"
  }
 },
 "nbformat": 4,
 "nbformat_minor": 1
}
